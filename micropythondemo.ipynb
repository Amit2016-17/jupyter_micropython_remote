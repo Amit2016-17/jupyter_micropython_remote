{
 "cells": [
  {
   "cell_type": "code",
   "execution_count": 1,
   "metadata": {},
   "outputs": [
    {
     "name": "stdout",
     "output_type": "stream",
     "text": [
      "\u001b[34mReady.\n",
      "\u001b[0m"
     ]
    }
   ],
   "source": [
    "%connect \"USB-SERIAL CH340\""
   ]
  },
  {
   "cell_type": "code",
   "execution_count": null,
   "metadata": {},
   "outputs": [],
   "source": [
    "%shell esptool --port COM10 erase_flash"
   ]
  },
  {
   "cell_type": "code",
   "execution_count": null,
   "metadata": {},
   "outputs": [],
   "source": [
    "%shell esptool --port COM10 --baud 460800 write_flash --flash_size=detect 0 esp8266-20180812-v1.9.4-447-g86e0b2553.bin"
   ]
  },
  {
   "cell_type": "code",
   "execution_count": 2,
   "metadata": {},
   "outputs": [],
   "source": [
    "import machine, time\n",
    "led = machine.Pin(2, machine.Pin.OUT)"
   ]
  },
  {
   "cell_type": "code",
   "execution_count": 3,
   "metadata": {},
   "outputs": [],
   "source": [
    "import machine, time\n",
    "led = machine.Pin(2, machine.Pin.OUT)\n",
    "for _ in range(10):\n",
    "    led.value(0)\n",
    "    time.sleep(0.25)\n",
    "    led.value(1)\n",
    "    time.sleep(0.25)"
   ]
  },
  {
   "cell_type": "code",
   "execution_count": null,
   "metadata": {},
   "outputs": [],
   "source": [
    "import os\n",
    "print(os.listdir('/remote'))"
   ]
  },
  {
   "cell_type": "code",
   "execution_count": 4,
   "metadata": {},
   "outputs": [
    {
     "name": "stdout",
     "output_type": "stream",
     "text": [
      "object <module 'umachine'> is of type module\n",
      "  __name__ -- umachine\n",
      "  mem8 -- <8-bit memory>\n",
      "  mem16 -- <16-bit memory>\n",
      "  mem32 -- <32-bit memory>\n",
      "  freq -- <function>\n",
      "  reset -- <function>\n",
      "  reset_cause -- <function>\n",
      "  unique_id -- <function>\n",
      "  idle -- <function>\n",
      "  sleep -- <function>\n",
      "  deepsleep -- <function>\n",
      "  disable_irq -- <function>\n",
      "  enable_irq -- <function>\n",
      "  time_pulse_us -- <function>\n",
      "  RTC -- <class 'RTC'>\n",
      "  Timer -- <class 'Timer'>\n",
      "  WDT -- <class 'WDT'>\n",
      "  Pin -- <class 'Pin'>\n",
      "  Signal -- <class 'Signal'>\n",
      "  PWM -- <class 'PWM'>\n",
      "  ADC -- <class 'ADC'>\n",
      "  UART -- <class 'UART'>\n",
      "  I2C -- <class 'I2C'>\n",
      "  SPI -- <class 'HSPI'>\n",
      "  DEEPSLEEP -- 4\n",
      "  PWRON_RESET -- 0\n",
      "  HARD_RESET -- 6\n",
      "  DEEPSLEEP_RESET -- 5\n",
      "  WDT_RESET -- 1\n",
      "  SOFT_RESET -- 4\n"
     ]
    },
    {
     "name": "stderr",
     "output_type": "stream",
     "text": []
    }
   ],
   "source": [
    "help(machine)"
   ]
  },
  {
   "cell_type": "code",
   "execution_count": 74,
   "metadata": {},
   "outputs": [
    {
     "name": "stdout",
     "output_type": "stream",
     "text": [
      "%serialconnect [/dev/ttyUSB0] [115200]\n",
      "%suppressendcode doesn't send x04 or wait to read after sending the cell\n",
      "  (assists for debugging using %writebytes and %readbytes)\n",
      "%writebytes does serial.write() on a string b'binary_stuff' \n",
      "%readbytes does serial.read_all()\n",
      "%rebootdevice reboots device\n",
      "%sendtofile name.py uploads subsequent text to file\n"
     ]
    }
   ],
   "source": [
    "%lsmagic"
   ]
  },
  {
   "cell_type": "code",
   "execution_count": 26,
   "metadata": {},
   "outputs": [
    {
     "name": "stdout",
     "output_type": "stream",
     "text": [
      "Traceback (most recent call last):\n",
      "  File \"<stdin>\", line 1\n",
      "SyntaxError: invalid syntax\n"
     ]
    }
   ],
   "source": [
    "%disconnect"
   ]
  },
  {
   "cell_type": "code",
   "execution_count": null,
   "metadata": {
    "collapsed": true
   },
   "outputs": [],
   "source": [
    "%rebootdevice"
   ]
  }
 ],
 "metadata": {
  "kernelspec": {
   "display_name": "MicroPython - USB",
   "language": "micropython",
   "name": "micropython"
  },
  "language_info": {
   "codemirror_mode": "python",
   "file_extension": ".py",
   "mimetype": "text/python",
   "name": "micropython"
  }
 },
 "nbformat": 4,
 "nbformat_minor": 2
}
