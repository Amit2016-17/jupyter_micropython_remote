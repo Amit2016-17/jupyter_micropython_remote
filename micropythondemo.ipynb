{
 "cells": [
  {
   "cell_type": "markdown",
   "metadata": {},
   "source": [
    "Connecting to micropython board"
   ]
  },
  {
   "cell_type": "code",
   "execution_count": null,
   "metadata": {},
   "outputs": [],
   "source": [
    "%connect \"USB-SERIAL CH340\""
   ]
  },
  {
   "cell_type": "code",
   "execution_count": null,
   "metadata": {},
   "outputs": [],
   "source": [
    "%connect \"ws://192.168.4.1:8266\""
   ]
  },
  {
   "cell_type": "markdown",
   "metadata": {},
   "source": [
    "flash esp firmware onto board"
   ]
  },
  {
   "cell_type": "code",
   "execution_count": null,
   "metadata": {},
   "outputs": [],
   "source": [
    "%disconnect\n",
    "%shell esptool --port COM10 erase_flash"
   ]
  },
  {
   "cell_type": "code",
   "execution_count": null,
   "metadata": {},
   "outputs": [],
   "source": [
    "%disconnect\n",
    "%shell esptool --port COM10 --baud 460800 write_flash --flash_size=detect 0 esp8266-20180812-v1.9.4-447-g86e0b2553.bin"
   ]
  },
  {
   "cell_type": "markdown",
   "metadata": {},
   "source": [
    "Flash onboard led of cheap esp8266 module"
   ]
  },
  {
   "cell_type": "code",
   "execution_count": null,
   "metadata": {},
   "outputs": [],
   "source": [
    "import machine, time\n",
    "led = machine.Pin(2, machine.Pin.OUT)"
   ]
  },
  {
   "cell_type": "code",
   "execution_count": null,
   "metadata": {},
   "outputs": [],
   "source": [
    "import machine, time\n",
    "led = machine.Pin(2, machine.Pin.OUT)\n",
    "for _ in range(10):\n",
    "    led.value(0)\n",
    "    time.sleep(0.25)\n",
    "    led.value(1)\n",
    "    time.sleep(0.25)"
   ]
  },
  {
   "cell_type": "markdown",
   "metadata": {},
   "source": [
    "Basic local and remote (pc) file operations"
   ]
  },
  {
   "cell_type": "code",
   "execution_count": null,
   "metadata": {},
   "outputs": [],
   "source": [
    "import os\n",
    "print(os.listdir('/'))\n",
    "print(os.listdir('/remote/'))"
   ]
  },
  {
   "cell_type": "code",
   "execution_count": null,
   "metadata": {},
   "outputs": [],
   "source": [
    "Util.sync('/remote/build', '/lib/', include='.*\\.py')"
   ]
  },
  {
   "cell_type": "markdown",
   "metadata": {},
   "source": [
    "Control neopixel with widget"
   ]
  },
  {
   "cell_type": "code",
   "execution_count": null,
   "metadata": {},
   "outputs": [],
   "source": [
    "from machine import Pin\n",
    "import neopixel\n",
    "pixels = neopixel.NeoPixel(Pin(4, Pin.OUT), 1)\n",
    "\n",
    "def set_colour(r, g, b):\n",
    "    pixels[0] = (r, g, b)\n",
    "    pixels.write()\n",
    "    \n",
    "set_colour(0xff, 0xff, 0xff)"
   ]
  },
  {
   "cell_type": "code",
   "execution_count": null,
   "metadata": {},
   "outputs": [],
   "source": [
    "%local\n",
    "import colorsys\n",
    "from ipywidgets import interact, Layout, FloatSlider\n",
    "\n",
    "def set_hue(hue):\n",
    "    r, g, b = (int(p*255) for p in colorsys.hsv_to_rgb(hue, 1.0, 1.0))\n",
    "    remote(f\"set_colour({r}, {g}, {b})\")\n",
    "\n",
    "slider = FloatSlider(min=0,max=1.0,step=0.01, layout=Layout(width='80%', height='80px'))\n",
    "interact(set_hue, hue=slider)"
   ]
  },
  {
   "cell_type": "code",
   "execution_count": null,
   "metadata": {},
   "outputs": [],
   "source": [
    "help(machine)"
   ]
  },
  {
   "cell_type": "code",
   "execution_count": null,
   "metadata": {},
   "outputs": [],
   "source": [
    "%lsmagic"
   ]
  },
  {
   "cell_type": "code",
   "execution_count": null,
   "metadata": {},
   "outputs": [],
   "source": [
    "%disconnect"
   ]
  }
 ],
 "metadata": {
  "kernelspec": {
   "display_name": "MicroPython Remote",
   "language": "micropython",
   "name": "micropython"
  },
  "language_info": {
   "codemirror_mode": "python",
   "file_extension": ".py",
   "mimetype": "text/python",
   "name": "micropython"
  }
 },
 "nbformat": 4,
 "nbformat_minor": 2
}
